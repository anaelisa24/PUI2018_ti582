{
 "cells": [
  {
   "cell_type": "markdown",
   "metadata": {},
   "source": [
    "# PUI2018 HW3 Assignment 2"
   ]
  },
  {
   "cell_type": "code",
   "execution_count": 12,
   "metadata": {},
   "outputs": [
    {
     "name": "stdout",
     "output_type": "stream",
     "text": [
      "PUIdata /nfshome/ti582/PUIdata\n"
     ]
    }
   ],
   "source": [
    "# check if PUIdata exists\n",
    "import os\n",
    "print(\"PUIdata\", os.getenv(\"PUIDATA\"))"
   ]
  },
  {
   "cell_type": "code",
   "execution_count": 13,
   "metadata": {},
   "outputs": [
    {
     "name": "stdout",
     "output_type": "stream",
     "text": [
      "PUIdata /nfshome/ti582/PUIdata\n"
     ]
    }
   ],
   "source": [
    "#create the env variable if missing\n",
    "os.environ[\"PUIDATA\"] = \"%s/PUIdata\"%os.getenv(\"HOME\")\n",
    "\n",
    "print(\"PUIdata\", os.getenv(\"PUIDATA\"))"
   ]
  },
  {
   "cell_type": "code",
   "execution_count": 14,
   "metadata": {},
   "outputs": [
    {
     "name": "stdout",
     "output_type": "stream",
     "text": [
      "Traffic_Volume_Counts_2012-2013.csv\n"
     ]
    }
   ],
   "source": [
    "#test if the data is in the PUIDATA directory\n",
    "!ls $PUIDATA"
   ]
  },
  {
   "cell_type": "code",
   "execution_count": 15,
   "metadata": {},
   "outputs": [],
   "source": [
    "#read in the data with pandas\n",
    "import pandas as pd\n",
    "count = pd.read_csv(\"%s/Traffic_Volume_Counts_2012-2013.csv\"%os.getenv(\"PUIDATA\"))"
   ]
  },
  {
   "cell_type": "code",
   "execution_count": 20,
   "metadata": {},
   "outputs": [
    {
     "data": {
      "text/html": [
       "<div>\n",
       "<table border=\"1\" class=\"dataframe\">\n",
       "  <thead>\n",
       "    <tr style=\"text-align: right;\">\n",
       "      <th></th>\n",
       "      <th>ID</th>\n",
       "      <th>Segment ID</th>\n",
       "      <th>Roadway Name</th>\n",
       "      <th>From</th>\n",
       "      <th>To</th>\n",
       "      <th>Direction</th>\n",
       "      <th>Date</th>\n",
       "      <th>12:00-1:00 AM</th>\n",
       "      <th>1:00-2:00AM</th>\n",
       "      <th>2:00-3:00AM</th>\n",
       "      <th>...</th>\n",
       "      <th>2:00-3:00PM</th>\n",
       "      <th>3:00-4:00PM</th>\n",
       "      <th>4:00-5:00PM</th>\n",
       "      <th>5:00-6:00PM</th>\n",
       "      <th>6:00-7:00PM</th>\n",
       "      <th>7:00-8:00PM</th>\n",
       "      <th>8:00-9:00PM</th>\n",
       "      <th>9:00-10:00PM</th>\n",
       "      <th>10:00-11:00PM</th>\n",
       "      <th>11:00-12:00AM</th>\n",
       "    </tr>\n",
       "  </thead>\n",
       "  <tbody>\n",
       "    <tr>\n",
       "      <th>0</th>\n",
       "      <td>1</td>\n",
       "      <td>2153</td>\n",
       "      <td>HUGUENOT AVE</td>\n",
       "      <td>WOODROW RD</td>\n",
       "      <td>STAFFORD AVE</td>\n",
       "      <td>NB</td>\n",
       "      <td>02/02/2013</td>\n",
       "      <td>106</td>\n",
       "      <td>74</td>\n",
       "      <td>45.0</td>\n",
       "      <td>...</td>\n",
       "      <td>371</td>\n",
       "      <td>398</td>\n",
       "      <td>324</td>\n",
       "      <td>394</td>\n",
       "      <td>379</td>\n",
       "      <td>329</td>\n",
       "      <td>249</td>\n",
       "      <td>197</td>\n",
       "      <td>187</td>\n",
       "      <td>169</td>\n",
       "    </tr>\n",
       "    <tr>\n",
       "      <th>1</th>\n",
       "      <td>1</td>\n",
       "      <td>2153</td>\n",
       "      <td>HUGUENOT AVE</td>\n",
       "      <td>WOODROW RD</td>\n",
       "      <td>STAFFORD AVE</td>\n",
       "      <td>NB</td>\n",
       "      <td>02/03/2013</td>\n",
       "      <td>109</td>\n",
       "      <td>74</td>\n",
       "      <td>55.0</td>\n",
       "      <td>...</td>\n",
       "      <td>308</td>\n",
       "      <td>291</td>\n",
       "      <td>313</td>\n",
       "      <td>253</td>\n",
       "      <td>242</td>\n",
       "      <td>217</td>\n",
       "      <td>210</td>\n",
       "      <td>144</td>\n",
       "      <td>125</td>\n",
       "      <td>79</td>\n",
       "    </tr>\n",
       "    <tr>\n",
       "      <th>2</th>\n",
       "      <td>1</td>\n",
       "      <td>2153</td>\n",
       "      <td>HUGUENOT AVE</td>\n",
       "      <td>WOODROW RD</td>\n",
       "      <td>STAFFORD AVE</td>\n",
       "      <td>NB</td>\n",
       "      <td>02/04/2013</td>\n",
       "      <td>36</td>\n",
       "      <td>28</td>\n",
       "      <td>11.0</td>\n",
       "      <td>...</td>\n",
       "      <td>426</td>\n",
       "      <td>425</td>\n",
       "      <td>419</td>\n",
       "      <td>469</td>\n",
       "      <td>425</td>\n",
       "      <td>358</td>\n",
       "      <td>224</td>\n",
       "      <td>185</td>\n",
       "      <td>132</td>\n",
       "      <td>74</td>\n",
       "    </tr>\n",
       "    <tr>\n",
       "      <th>3</th>\n",
       "      <td>1</td>\n",
       "      <td>2153</td>\n",
       "      <td>HUGUENOT AVE</td>\n",
       "      <td>WOODROW RD</td>\n",
       "      <td>STAFFORD AVE</td>\n",
       "      <td>NB</td>\n",
       "      <td>02/05/2013</td>\n",
       "      <td>42</td>\n",
       "      <td>28</td>\n",
       "      <td>16.0</td>\n",
       "      <td>...</td>\n",
       "      <td>393</td>\n",
       "      <td>479</td>\n",
       "      <td>441</td>\n",
       "      <td>476</td>\n",
       "      <td>446</td>\n",
       "      <td>424</td>\n",
       "      <td>305</td>\n",
       "      <td>219</td>\n",
       "      <td>171</td>\n",
       "      <td>76</td>\n",
       "    </tr>\n",
       "    <tr>\n",
       "      <th>4</th>\n",
       "      <td>1</td>\n",
       "      <td>2153</td>\n",
       "      <td>HUGUENOT AVE</td>\n",
       "      <td>WOODROW RD</td>\n",
       "      <td>STAFFORD AVE</td>\n",
       "      <td>NB</td>\n",
       "      <td>02/06/2013</td>\n",
       "      <td>35</td>\n",
       "      <td>38</td>\n",
       "      <td>12.0</td>\n",
       "      <td>...</td>\n",
       "      <td>383</td>\n",
       "      <td>384</td>\n",
       "      <td>391</td>\n",
       "      <td>369</td>\n",
       "      <td>401</td>\n",
       "      <td>338</td>\n",
       "      <td>236</td>\n",
       "      <td>186</td>\n",
       "      <td>123</td>\n",
       "      <td>76</td>\n",
       "    </tr>\n",
       "    <tr>\n",
       "      <th>5</th>\n",
       "      <td>1</td>\n",
       "      <td>2153</td>\n",
       "      <td>HUGUENOT AVE</td>\n",
       "      <td>WOODROW RD</td>\n",
       "      <td>STAFFORD AVE</td>\n",
       "      <td>NB</td>\n",
       "      <td>02/07/2013</td>\n",
       "      <td>33</td>\n",
       "      <td>26</td>\n",
       "      <td>14.0</td>\n",
       "      <td>...</td>\n",
       "      <td>151</td>\n",
       "      <td>409</td>\n",
       "      <td>422</td>\n",
       "      <td>364</td>\n",
       "      <td>356</td>\n",
       "      <td>339</td>\n",
       "      <td>275</td>\n",
       "      <td>225</td>\n",
       "      <td>169</td>\n",
       "      <td>104</td>\n",
       "    </tr>\n",
       "    <tr>\n",
       "      <th>6</th>\n",
       "      <td>1</td>\n",
       "      <td>2153</td>\n",
       "      <td>HUGUENOT AVE</td>\n",
       "      <td>WOODROW RD</td>\n",
       "      <td>STAFFORD AVE</td>\n",
       "      <td>NB</td>\n",
       "      <td>02/08/2013</td>\n",
       "      <td>35</td>\n",
       "      <td>28</td>\n",
       "      <td>18.0</td>\n",
       "      <td>...</td>\n",
       "      <td>430</td>\n",
       "      <td>518</td>\n",
       "      <td>461</td>\n",
       "      <td>485</td>\n",
       "      <td>531</td>\n",
       "      <td>393</td>\n",
       "      <td>351</td>\n",
       "      <td>276</td>\n",
       "      <td>242</td>\n",
       "      <td>154</td>\n",
       "    </tr>\n",
       "    <tr>\n",
       "      <th>7</th>\n",
       "      <td>1</td>\n",
       "      <td>2153</td>\n",
       "      <td>HUGUENOT AVE</td>\n",
       "      <td>WOODROW RD</td>\n",
       "      <td>STAFFORD AVE</td>\n",
       "      <td>NB</td>\n",
       "      <td>02/09/2013</td>\n",
       "      <td>110</td>\n",
       "      <td>73</td>\n",
       "      <td>46.0</td>\n",
       "      <td>...</td>\n",
       "      <td>379</td>\n",
       "      <td>406</td>\n",
       "      <td>330</td>\n",
       "      <td>402</td>\n",
       "      <td>387</td>\n",
       "      <td>336</td>\n",
       "      <td>254</td>\n",
       "      <td>201</td>\n",
       "      <td>191</td>\n",
       "      <td>174</td>\n",
       "    </tr>\n",
       "  </tbody>\n",
       "</table>\n",
       "<p>8 rows × 31 columns</p>\n",
       "</div>"
      ],
      "text/plain": [
       "   ID  Segment ID  Roadway Name        From            To Direction  \\\n",
       "0   1        2153  HUGUENOT AVE  WOODROW RD  STAFFORD AVE        NB   \n",
       "1   1        2153  HUGUENOT AVE  WOODROW RD  STAFFORD AVE        NB   \n",
       "2   1        2153  HUGUENOT AVE  WOODROW RD  STAFFORD AVE        NB   \n",
       "3   1        2153  HUGUENOT AVE  WOODROW RD  STAFFORD AVE        NB   \n",
       "4   1        2153  HUGUENOT AVE  WOODROW RD  STAFFORD AVE        NB   \n",
       "5   1        2153  HUGUENOT AVE  WOODROW RD  STAFFORD AVE        NB   \n",
       "6   1        2153  HUGUENOT AVE  WOODROW RD  STAFFORD AVE        NB   \n",
       "7   1        2153  HUGUENOT AVE  WOODROW RD  STAFFORD AVE        NB   \n",
       "\n",
       "         Date  12:00-1:00 AM  1:00-2:00AM  2:00-3:00AM      ...        \\\n",
       "0  02/02/2013            106           74         45.0      ...         \n",
       "1  02/03/2013            109           74         55.0      ...         \n",
       "2  02/04/2013             36           28         11.0      ...         \n",
       "3  02/05/2013             42           28         16.0      ...         \n",
       "4  02/06/2013             35           38         12.0      ...         \n",
       "5  02/07/2013             33           26         14.0      ...         \n",
       "6  02/08/2013             35           28         18.0      ...         \n",
       "7  02/09/2013            110           73         46.0      ...         \n",
       "\n",
       "   2:00-3:00PM  3:00-4:00PM  4:00-5:00PM  5:00-6:00PM  6:00-7:00PM  \\\n",
       "0          371          398          324          394          379   \n",
       "1          308          291          313          253          242   \n",
       "2          426          425          419          469          425   \n",
       "3          393          479          441          476          446   \n",
       "4          383          384          391          369          401   \n",
       "5          151          409          422          364          356   \n",
       "6          430          518          461          485          531   \n",
       "7          379          406          330          402          387   \n",
       "\n",
       "   7:00-8:00PM  8:00-9:00PM  9:00-10:00PM  10:00-11:00PM  11:00-12:00AM  \n",
       "0          329          249           197            187            169  \n",
       "1          217          210           144            125             79  \n",
       "2          358          224           185            132             74  \n",
       "3          424          305           219            171             76  \n",
       "4          338          236           186            123             76  \n",
       "5          339          275           225            169            104  \n",
       "6          393          351           276            242            154  \n",
       "7          336          254           201            191            174  \n",
       "\n",
       "[8 rows x 31 columns]"
      ]
     },
     "execution_count": 20,
     "metadata": {},
     "output_type": "execute_result"
    }
   ],
   "source": [
    "#print the first 8 lines out\n",
    "count.head(8)"
   ]
  },
  {
   "cell_type": "code",
   "execution_count": 21,
   "metadata": {},
   "outputs": [
    {
     "data": {
      "text/html": [
       "<div>\n",
       "<table border=\"1\" class=\"dataframe\">\n",
       "  <thead>\n",
       "    <tr style=\"text-align: right;\">\n",
       "      <th></th>\n",
       "      <th>ID</th>\n",
       "      <th>Segment ID</th>\n",
       "      <th>Roadway Name</th>\n",
       "      <th>From</th>\n",
       "      <th>To</th>\n",
       "      <th>Direction</th>\n",
       "      <th>Date</th>\n",
       "      <th>12:00-1:00 AM</th>\n",
       "      <th>1:00-2:00AM</th>\n",
       "      <th>2:00-3:00AM</th>\n",
       "      <th>...</th>\n",
       "      <th>2:00-3:00PM</th>\n",
       "      <th>3:00-4:00PM</th>\n",
       "      <th>4:00-5:00PM</th>\n",
       "      <th>5:00-6:00PM</th>\n",
       "      <th>6:00-7:00PM</th>\n",
       "      <th>7:00-8:00PM</th>\n",
       "      <th>8:00-9:00PM</th>\n",
       "      <th>9:00-10:00PM</th>\n",
       "      <th>10:00-11:00PM</th>\n",
       "      <th>11:00-12:00AM</th>\n",
       "    </tr>\n",
       "  </thead>\n",
       "  <tbody>\n",
       "    <tr>\n",
       "      <th>5942</th>\n",
       "      <td>377</td>\n",
       "      <td>179545</td>\n",
       "      <td>E 177 ST</td>\n",
       "      <td>HARDING AVENUE</td>\n",
       "      <td>LONGSTREET AVENUE</td>\n",
       "      <td>WB</td>\n",
       "      <td>02/05/2013</td>\n",
       "      <td>13</td>\n",
       "      <td>9</td>\n",
       "      <td>5.0</td>\n",
       "      <td>...</td>\n",
       "      <td>93</td>\n",
       "      <td>103</td>\n",
       "      <td>83</td>\n",
       "      <td>96</td>\n",
       "      <td>88</td>\n",
       "      <td>68</td>\n",
       "      <td>73</td>\n",
       "      <td>30</td>\n",
       "      <td>21</td>\n",
       "      <td>31</td>\n",
       "    </tr>\n",
       "    <tr>\n",
       "      <th>5943</th>\n",
       "      <td>377</td>\n",
       "      <td>179545</td>\n",
       "      <td>E 177 ST</td>\n",
       "      <td>HARDING AVENUE</td>\n",
       "      <td>LONGSTREET AVENUE</td>\n",
       "      <td>WB</td>\n",
       "      <td>02/06/2013</td>\n",
       "      <td>12</td>\n",
       "      <td>8</td>\n",
       "      <td>1.0</td>\n",
       "      <td>...</td>\n",
       "      <td>97</td>\n",
       "      <td>107</td>\n",
       "      <td>78</td>\n",
       "      <td>87</td>\n",
       "      <td>109</td>\n",
       "      <td>64</td>\n",
       "      <td>50</td>\n",
       "      <td>41</td>\n",
       "      <td>58</td>\n",
       "      <td>17</td>\n",
       "    </tr>\n",
       "    <tr>\n",
       "      <th>5944</th>\n",
       "      <td>377</td>\n",
       "      <td>179545</td>\n",
       "      <td>E 177 ST</td>\n",
       "      <td>HARDING AVENUE</td>\n",
       "      <td>LONGSTREET AVENUE</td>\n",
       "      <td>WB</td>\n",
       "      <td>02/07/2013</td>\n",
       "      <td>20</td>\n",
       "      <td>11</td>\n",
       "      <td>6.0</td>\n",
       "      <td>...</td>\n",
       "      <td>82</td>\n",
       "      <td>104</td>\n",
       "      <td>84</td>\n",
       "      <td>105</td>\n",
       "      <td>100</td>\n",
       "      <td>68</td>\n",
       "      <td>61</td>\n",
       "      <td>48</td>\n",
       "      <td>34</td>\n",
       "      <td>29</td>\n",
       "    </tr>\n",
       "  </tbody>\n",
       "</table>\n",
       "<p>3 rows × 31 columns</p>\n",
       "</div>"
      ],
      "text/plain": [
       "       ID  Segment ID Roadway Name              From                   To  \\\n",
       "5942  377      179545     E 177 ST   HARDING AVENUE    LONGSTREET AVENUE    \n",
       "5943  377      179545     E 177 ST   HARDING AVENUE    LONGSTREET AVENUE    \n",
       "5944  377      179545     E 177 ST   HARDING AVENUE    LONGSTREET AVENUE    \n",
       "\n",
       "     Direction        Date  12:00-1:00 AM  1:00-2:00AM  2:00-3:00AM  \\\n",
       "5942        WB  02/05/2013             13            9          5.0   \n",
       "5943        WB  02/06/2013             12            8          1.0   \n",
       "5944        WB  02/07/2013             20           11          6.0   \n",
       "\n",
       "          ...        2:00-3:00PM  3:00-4:00PM  4:00-5:00PM  5:00-6:00PM  \\\n",
       "5942      ...                 93          103           83           96   \n",
       "5943      ...                 97          107           78           87   \n",
       "5944      ...                 82          104           84          105   \n",
       "\n",
       "      6:00-7:00PM  7:00-8:00PM  8:00-9:00PM  9:00-10:00PM  10:00-11:00PM  \\\n",
       "5942           88           68           73            30             21   \n",
       "5943          109           64           50            41             58   \n",
       "5944          100           68           61            48             34   \n",
       "\n",
       "      11:00-12:00AM  \n",
       "5942             31  \n",
       "5943             17  \n",
       "5944             29  \n",
       "\n",
       "[3 rows x 31 columns]"
      ]
     },
     "execution_count": 21,
     "metadata": {},
     "output_type": "execute_result"
    }
   ],
   "source": [
    "#print the last 3 lines out\n",
    "count.tail(3)"
   ]
  },
  {
   "cell_type": "code",
   "execution_count": 22,
   "metadata": {},
   "outputs": [
    {
     "data": {
      "text/plain": [
       "Index(['ID', 'Segment ID', 'Roadway Name', 'From', 'To', 'Direction', 'Date',\n",
       "       '12:00-1:00 AM', '1:00-2:00AM', '2:00-3:00AM', '3:00-4:00AM',\n",
       "       '4:00-5:00AM', '5:00-6:00AM', '6:00-7:00AM', '7:00-8:00AM',\n",
       "       '8:00-9:00AM', '9:00-10:00AM', '10:00-11:00AM', '11:00-12:00PM',\n",
       "       '12:00-1:00PM', '1:00-2:00PM', '2:00-3:00PM', '3:00-4:00PM',\n",
       "       '4:00-5:00PM', '5:00-6:00PM', '6:00-7:00PM', '7:00-8:00PM',\n",
       "       '8:00-9:00PM', '9:00-10:00PM', '10:00-11:00PM', '11:00-12:00AM'],\n",
       "      dtype='object')"
      ]
     },
     "execution_count": 22,
     "metadata": {},
     "output_type": "execute_result"
    }
   ],
   "source": [
    "#look at the columns available, which are the variables\n",
    "count.columns"
   ]
  },
  {
   "cell_type": "code",
   "execution_count": 23,
   "metadata": {},
   "outputs": [
    {
     "data": {
      "text/plain": [
       "184295"
      ]
     },
     "execution_count": 23,
     "metadata": {},
     "output_type": "execute_result"
    }
   ],
   "source": [
    "#count how many rows, which are the data points\n",
    "count.size"
   ]
  },
  {
   "cell_type": "code",
   "execution_count": 24,
   "metadata": {},
   "outputs": [],
   "source": [
    "#select only 2 columns for plotting\n",
    "count_2c = count[['Roadway Name', '8:00-9:00AM']]"
   ]
  },
  {
   "cell_type": "code",
   "execution_count": 41,
   "metadata": {},
   "outputs": [
    {
     "data": {
      "text/html": [
       "<div>\n",
       "<table border=\"1\" class=\"dataframe\">\n",
       "  <thead>\n",
       "    <tr style=\"text-align: right;\">\n",
       "      <th></th>\n",
       "      <th>Roadway Name</th>\n",
       "      <th>8:00-9:00AM</th>\n",
       "    </tr>\n",
       "  </thead>\n",
       "  <tbody>\n",
       "    <tr>\n",
       "      <th>0</th>\n",
       "      <td>HUGUENOT AVE</td>\n",
       "      <td>213.0</td>\n",
       "    </tr>\n",
       "    <tr>\n",
       "      <th>1</th>\n",
       "      <td>HUGUENOT AVE</td>\n",
       "      <td>111.0</td>\n",
       "    </tr>\n",
       "    <tr>\n",
       "      <th>2</th>\n",
       "      <td>HUGUENOT AVE</td>\n",
       "      <td>493.0</td>\n",
       "    </tr>\n",
       "    <tr>\n",
       "      <th>3</th>\n",
       "      <td>HUGUENOT AVE</td>\n",
       "      <td>499.0</td>\n",
       "    </tr>\n",
       "    <tr>\n",
       "      <th>4</th>\n",
       "      <td>HUGUENOT AVE</td>\n",
       "      <td>490.0</td>\n",
       "    </tr>\n",
       "  </tbody>\n",
       "</table>\n",
       "</div>"
      ],
      "text/plain": [
       "   Roadway Name  8:00-9:00AM\n",
       "0  HUGUENOT AVE        213.0\n",
       "1  HUGUENOT AVE        111.0\n",
       "2  HUGUENOT AVE        493.0\n",
       "3  HUGUENOT AVE        499.0\n",
       "4  HUGUENOT AVE        490.0"
      ]
     },
     "execution_count": 41,
     "metadata": {},
     "output_type": "execute_result"
    }
   ],
   "source": [
    "count_2c.head()"
   ]
  },
  {
   "cell_type": "markdown",
   "metadata": {},
   "source": [
    "## Plot the data"
   ]
  },
  {
   "cell_type": "code",
   "execution_count": 55,
   "metadata": {},
   "outputs": [
    {
     "name": "stdout",
     "output_type": "stream",
     "text": [
      "Populating the interactive namespace from numpy and matplotlib\n"
     ]
    },
    {
     "data": {
      "text/plain": [
       "Text(0,0.5,'Morning Traffice Volume (8:00-9:00AM)')"
      ]
     },
     "execution_count": 55,
     "metadata": {},
     "output_type": "execute_result"
    },
    {
     "data": {
      "image/png": "[encoded data removed]",
      "text/plain": [
       "<matplotlib.figure.Figure at 0x7ffa300598d0>"
      ]
     },
     "metadata": {},
     "output_type": "display_data"
    }
   ],
   "source": [
    "import matplotlib.pyplot as plt\n",
    "%pylab inline\n",
    "count_2c.plot()\n",
    "plt.xlabel('Roadway ID Number')\n",
    "plt.ylabel('Morning Traffice Volume (8:00-9:00AM)')"
   ]
  },
  {
   "cell_type": "markdown",
   "metadata": {},
   "source": [
    "Figure 1: A plot of traffic volume for a selected hour in the morning (8:00-9:00AM) for various intersections in New York City. The x-axis corresponds to the index numbers for those intersections and y-axis corresponds to the traffic volume for those intersections. The data set comes from the NYC Open Data website. It is a data set of traffic count volumes the NYC DOT collected in 2012-2013 for New York Metropolitan Transportation Council (NYMTC) in order to validate the New York Best Practice Model (NYBPM), which is a traffic model maintained by NYMTC for usage in transportation analysis. As shown in the plot, the intersections vary from the low end of a few hundred vehicles in the 8:00-9:00AM hour to nearly 7000 vehicles. The upper end of that spectrum is quite a large number for a single intersection (in my professional opinion, from my experience in my current job role, which is working as a traffic engineer). This data is useful because it helps the city know how many vehicles are flowing through various intersections and further analysis can use those numbers to determine if the intersections are operating over capacity."
   ]
  }
 ],
 "metadata": {
  "kernelspec": {
   "display_name": "PUI2016_Python3",
   "language": "python",
   "name": "pui2016_python3"
  },
  "language_info": {
   "codemirror_mode": {
    "name": "ipython",
    "version": 3
   },
   "file_extension": ".py",
   "mimetype": "text/x-python",
   "name": "python",
   "nbconvert_exporter": "python",
   "pygments_lexer": "ipython3",
   "version": "3.5.4"
  }
 },
 "nbformat": 4,
 "nbformat_minor": 2
}
