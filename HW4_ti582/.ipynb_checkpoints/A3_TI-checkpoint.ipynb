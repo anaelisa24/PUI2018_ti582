{
 "cells": [
  {
   "cell_type": "markdown",
   "metadata": {},
   "source": [
    "# By: Thomas Isola\n",
    "## Class: PUI 2018\n",
    "## HW #4 Assignment 3"
   ]
  },
  {
   "cell_type": "code",
   "execution_count": 1,
   "metadata": {},
   "outputs": [
    {
     "name": "stdout",
     "output_type": "stream",
     "text": [
      "Populating the interactive namespace from numpy and matplotlib\n"
     ]
    }
   ],
   "source": [
    "# Backwards compatibility\n",
    "from __future__ import print_function\n",
    "\n",
    "# Import packages\n",
    "import pylab as pl\n",
    "import numpy as np\n",
    "import requests\n",
    "import os\n",
    "\n",
    "%pylab inline"
   ]
  },
  {
   "cell_type": "markdown",
   "metadata": {},
   "source": [
    "# Formulation of Null and Alternative Hypothesis\n",
    "\n",
    "## Null Hypthesis\n",
    "The commute time is the same or worse (longer) with the implementation of the new bus route for bus line X8 compared to before.  \n",
    "T_new >= T_old\n",
    "\n",
    "## Alternative Hypothesis\n",
    "The commute time is better (shorter) with the implementation of the new bus route for bus line X8 compared to before.  \n",
    "T_new < T_old\n",
    "\n",
    "## Significance Level\n",
    "I will select *alpha* = 0.05"
   ]
  },
  {
   "cell_type": "code",
   "execution_count": 2,
   "metadata": {},
   "outputs": [],
   "source": [
    "# Set the desired download path to the PUIDATA folder\n",
    "busPath = os.getenv(\"PUIDATA\")"
   ]
  },
  {
   "cell_type": "code",
   "execution_count": 3,
   "metadata": {},
   "outputs": [],
   "source": [
    "# Download the raw text file to PUIDATA\n",
    "busURL = 'https://raw.githubusercontent.com/fedhere/PUI2018_fb55/master/Lab4_fb55/times.txt'\n",
    "busTimes = requests.get(busURL)\n",
    "#with open('/nfshome/ti582/HW_Practice/HW4_Practice/busData.txt','wb') as f:\n",
    "with open('%s/busData.txt'%busPath,'wb') as f:\n",
    "    f.write(busTimes.content)"
   ]
  },
  {
   "cell_type": "code",
   "execution_count": 4,
   "metadata": {},
   "outputs": [
    {
     "name": "stdout",
     "output_type": "stream",
     "text": [
      "The new average bus trip travel time is 34.47 seconds\n"
     ]
    }
   ],
   "source": [
    "# Calculate the new average bus time\n",
    "busData = numpy.loadtxt('%s/busData.txt'%busPath)\n",
    "mean_sample = busData.sum()/len(busData)\n",
    "print('The new average bus trip travel time is %.2f seconds'%mean_sample)"
   ]
  },
  {
   "cell_type": "code",
   "execution_count": 5,
   "metadata": {},
   "outputs": [
    {
     "name": "stdout",
     "output_type": "stream",
     "text": [
      "The value given by the Z test is 2.56\n"
     ]
    }
   ],
   "source": [
    "# Run a Z-test to determine if the new travel time is statistically significant\n",
    "mean_pop = 36 # given\n",
    "std_pop = 6 # given\n",
    "Z = (mean_pop-mean_sample)/(std_pop/sqrt(100))\n",
    "print('The value given by the Z test is %.2f'%Z)"
   ]
  },
  {
   "cell_type": "markdown",
   "metadata": {},
   "source": [
    "## Conclusion\n",
    "As stated earlier, the significance (alpha) level we are testing is 0.05. For a significance level of 0.05, a distance of 2σ from the old mean is required to reject the null hypothesis.\n",
    "\n",
    "2.56 is greater than 2, which indicates that we are further than 2 sigmas from the old mean, therefore, we can reject the null hypothesis. By rejecting the null hypothesis, this means that we are conluding that the new bus route has improved (shortened) the commute time of the X8 bus line."
   ]
  }
 ],
 "metadata": {
  "kernelspec": {
   "display_name": "PUI2016_Python3",
   "language": "python",
   "name": "pui2016_python3"
  },
  "language_info": {
   "codemirror_mode": {
    "name": "ipython",
    "version": 3
   },
   "file_extension": ".py",
   "mimetype": "text/x-python",
   "name": "python",
   "nbconvert_exporter": "python",
   "pygments_lexer": "ipython3",
   "version": "3.5.4"
  }
 },
 "nbformat": 4,
 "nbformat_minor": 2
}
