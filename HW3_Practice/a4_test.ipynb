{
 "cells": [
  {
   "cell_type": "markdown",
   "metadata": {},
   "source": [
    "# A4 Practice"
   ]
  },
  {
   "cell_type": "code",
   "execution_count": 5,
   "metadata": {},
   "outputs": [],
   "source": [
    "# Make script backwards compatible\n",
    "\n",
    "from __future__ import print_function"
   ]
  },
  {
   "cell_type": "code",
   "execution_count": 6,
   "metadata": {},
   "outputs": [],
   "source": [
    "# Import packages\n",
    "\n",
    "import sys\n",
    "import json\n",
    "\n",
    "try:\n",
    "    import urllib2 as urllib\n",
    "except ImportError:\n",
    "    import urllib.request as urllib"
   ]
  },
  {
   "cell_type": "code",
   "execution_count": 7,
   "metadata": {},
   "outputs": [],
   "source": [
    "# Set argument variables\n",
    "\n",
    "APIkey = \"7709e724-04b7-4a67-aace-1d8f1ecbeb5c\"\n",
    "BusLine = \"M7\""
   ]
  },
  {
   "cell_type": "code",
   "execution_count": 113,
   "metadata": {},
   "outputs": [],
   "source": [
    "## Perform the API data request\n",
    "\n",
    "#MTAurl = \"http://bustime.mta.info/api/siri/vehicle-monitoring.json?key=%s&VehicleMonitoringDetailLevel=calls&LineRef=%s\" % (APIkey, BusLine)\n",
    "#response = urllib.urlopen(MTAurl)\n",
    "#MTAdata = response.read().decode(\"utf-8\")\n",
    "#data = json.loads(MTAdata)"
   ]
  },
  {
   "cell_type": "code",
   "execution_count": 236,
   "metadata": {},
   "outputs": [],
   "source": [
    "# Extract the desireable data\n",
    "\n",
    "# this will get you latitude and longitude\n",
    "# data2 = data['Siri']['ServiceDelivery']['VehicleMonitoringDelivery'][0]['VehicleActivity'][0]['MonitoredVehicleJourney']['VehicleLocation']['Longitude']\n",
    "\n",
    "data2 = data['Siri']['ServiceDelivery']['VehicleMonitoringDelivery'][0]['VehicleActivity']\n",
    "\n",
    "# word = [1]\n",
    "# word2 = [1]\n",
    "# if len(word)==0 or len(word2)==0:\n",
    "#     print(\"one of the lists is empty\"),\n",
    "# else:\n",
    "#     print(\"both lists are not empty\"),\n",
    "\n",
    "fout = open(\"test2.csv\", \"w\")\n",
    "fout.write(\"Latitude,Longitude,Stop Name,Stop Status\\n\")\n",
    "for i in range(len(data2)):\n",
    "    Lat = data2[i]['MonitoredVehicleJourney']['VehicleLocation']['Longitude'],\n",
    "    Long = data2[i]['MonitoredVehicleJourney']['VehicleLocation']['Latitude']\n",
    "    StopName = data2[i]['MonitoredVehicleJourney']['OnwardCalls']['OnwardCall'][0]['StopPointName']\n",
    "    #StopName = []\n",
    "    #StopDistance = data2[i]['MonitoredVehicleJourney']['OnwardCalls']['OnwardCall'][0]['Extensions']['Distances']['PresentableDistance']\n",
    "    StopDistance = []\n",
    "    if len(StopName)==0 or len(StopDistance)==0:\n",
    "        fout.write(\"%s,\"%Lat+\"%s,\"%Long+\"N/A,N/A\\n\"),\n",
    "    else:\n",
    "        fout.write(\"%s,\"%Lat+\"%s,\"%Long+\"%s,\"%StopName+\"%s\\n\"%StopDistance),\n",
    "\n",
    "\n",
    "    \n",
    "fout.close()"
   ]
  },
  {
   "cell_type": "code",
   "execution_count": null,
   "metadata": {},
   "outputs": [],
   "source": []
  }
 ],
 "metadata": {
  "kernelspec": {
   "display_name": "PUI2016_Python3",
   "language": "python",
   "name": "pui2016_python3"
  },
  "language_info": {
   "codemirror_mode": {
    "name": "ipython",
    "version": 3
   },
   "file_extension": ".py",
   "mimetype": "text/x-python",
   "name": "python",
   "nbconvert_exporter": "python",
   "pygments_lexer": "ipython3",
   "version": "3.5.4"
  }
 },
 "nbformat": 4,
 "nbformat_minor": 2
}
